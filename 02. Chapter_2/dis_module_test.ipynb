{
 "cells": [
  {
   "cell_type": "code",
   "execution_count": 1,
   "metadata": {},
   "outputs": [
    {
     "name": "stdout",
     "output_type": "stream",
     "text": [
      " 11           0 LOAD_CONST               1 (0)\n",
      "              2 BUILD_LIST               1\n",
      "              4 LOAD_GLOBAL              0 (len)\n",
      "              6 LOAD_FAST                1 (zs)\n",
      "              8 CALL_FUNCTION            1\n",
      "             10 BINARY_MULTIPLY\n",
      "             12 STORE_FAST               3 (output)\n",
      "\n",
      " 12          14 LOAD_GLOBAL              1 (range)\n",
      "             16 LOAD_GLOBAL              0 (len)\n",
      "             18 LOAD_FAST                1 (zs)\n",
      "             20 CALL_FUNCTION            1\n",
      "             22 CALL_FUNCTION            1\n",
      "             24 GET_ITER\n",
      "        >>   26 FOR_ITER                46 (to 120)\n",
      "             28 STORE_FAST               4 (i)\n",
      "\n",
      " 13          30 LOAD_CONST               1 (0)\n",
      "             32 STORE_FAST               5 (n)\n",
      "\n",
      " 14          34 LOAD_FAST                1 (zs)\n",
      "             36 LOAD_FAST                4 (i)\n",
      "             38 BINARY_SUBSCR\n",
      "             40 STORE_FAST               6 (z)\n",
      "\n",
      " 15          42 LOAD_FAST                2 (cs)\n",
      "             44 LOAD_FAST                4 (i)\n",
      "             46 BINARY_SUBSCR\n",
      "             48 STORE_FAST               7 (c)\n",
      "\n",
      " 16          50 LOAD_GLOBAL              2 (abs)\n",
      "             52 LOAD_FAST                6 (z)\n",
      "             54 CALL_FUNCTION            1\n",
      "             56 LOAD_CONST               2 (2)\n",
      "             58 COMPARE_OP               0 (<)\n",
      "             60 POP_JUMP_IF_FALSE       55 (to 110)\n",
      "             62 LOAD_FAST                5 (n)\n",
      "             64 LOAD_FAST                0 (maxiter)\n",
      "             66 COMPARE_OP               0 (<)\n",
      "             68 POP_JUMP_IF_FALSE       55 (to 110)\n",
      "\n",
      " 17     >>   70 LOAD_FAST                6 (z)\n",
      "             72 LOAD_FAST                6 (z)\n",
      "             74 BINARY_MULTIPLY\n",
      "             76 LOAD_FAST                7 (c)\n",
      "             78 BINARY_ADD\n",
      "             80 STORE_FAST               6 (z)\n",
      "\n",
      " 18          82 LOAD_FAST                5 (n)\n",
      "             84 LOAD_CONST               3 (1)\n",
      "             86 INPLACE_ADD\n",
      "             88 STORE_FAST               5 (n)\n",
      "\n",
      " 16          90 LOAD_GLOBAL              2 (abs)\n",
      "             92 LOAD_FAST                6 (z)\n",
      "             94 CALL_FUNCTION            1\n",
      "             96 LOAD_CONST               2 (2)\n",
      "             98 COMPARE_OP               0 (<)\n",
      "            100 POP_JUMP_IF_FALSE       55 (to 110)\n",
      "            102 LOAD_FAST                5 (n)\n",
      "            104 LOAD_FAST                0 (maxiter)\n",
      "            106 COMPARE_OP               0 (<)\n",
      "            108 POP_JUMP_IF_TRUE        35 (to 70)\n",
      "\n",
      " 19     >>  110 LOAD_FAST                5 (n)\n",
      "            112 LOAD_FAST                3 (output)\n",
      "            114 LOAD_FAST                4 (i)\n",
      "            116 STORE_SUBSCR\n",
      "            118 JUMP_ABSOLUTE           13 (to 26)\n",
      "\n",
      " 20     >>  120 LOAD_FAST                3 (output)\n",
      "            122 RETURN_VALUE\n"
     ]
    }
   ],
   "source": [
    "import dis\n",
    "import julia1_nopil\n",
    "dis.dis(julia1_nopil.calculate_z_serial_purepython)"
   ]
  },
  {
   "cell_type": "code",
   "execution_count": 2,
   "metadata": {},
   "outputs": [],
   "source": [
    "def fn_expressive(upper=1_000_000):\n",
    "    total = 0\n",
    "    for n in range(upper):\n",
    "        total += n\n",
    "    return total"
   ]
  },
  {
   "cell_type": "code",
   "execution_count": 3,
   "metadata": {},
   "outputs": [],
   "source": [
    "def fn_terse(upper=1_000_000):\n",
    "    return sum(range(upper))"
   ]
  },
  {
   "cell_type": "code",
   "execution_count": 4,
   "metadata": {},
   "outputs": [
    {
     "name": "stdout",
     "output_type": "stream",
     "text": [
      "56.6 ms ± 5.43 ms per loop (mean ± std. dev. of 7 runs, 10 loops each)\n"
     ]
    }
   ],
   "source": [
    "%timeit fn_expressive()"
   ]
  },
  {
   "cell_type": "code",
   "execution_count": 5,
   "metadata": {},
   "outputs": [
    {
     "name": "stdout",
     "output_type": "stream",
     "text": [
      "31.3 ms ± 916 µs per loop (mean ± std. dev. of 7 runs, 10 loops each)\n"
     ]
    }
   ],
   "source": [
    "%timeit fn_terse()"
   ]
  },
  {
   "cell_type": "code",
   "execution_count": 7,
   "metadata": {},
   "outputs": [
    {
     "name": "stdout",
     "output_type": "stream",
     "text": [
      "Example call `some_fn(2)` == 4\n"
     ]
    }
   ],
   "source": [
    "import time\n",
    "\n",
    "def test_some_fn():\n",
    "    \"\"\"Check basic behaviors for our function\"\"\"\n",
    "    assert some_fn(2) == 4\n",
    "    assert some_fn(1) == 1\n",
    "    assert some_fn(-1) == 1\n",
    "\n",
    "\n",
    "def some_fn(useful_input):\n",
    "    \"\"\"An expensive function that we wish to both test and profile\"\"\"\n",
    "    # artificial \"we're doing something clever and expensive\" delay\n",
    "    time.sleep(1)\n",
    "    return useful_input ** 2\n",
    "\n",
    "\n",
    "if __name__ == \"__main__\":\n",
    "    print(f\"Example call `some_fn(2)` == {some_fn(2)}\")\n",
    "\n",
    "if 'line_profiler' not in dir() and 'profile' not in dir():\n",
    "    def profile(func):\n",
    "        return func"
   ]
  },
  {
   "cell_type": "code",
   "execution_count": null,
   "metadata": {},
   "outputs": [],
   "source": []
  }
 ],
 "metadata": {
  "interpreter": {
   "hash": "7b0470897870f91c1d27568bf8346e85da46866cae942d918bd7f2b2e94e9a5a"
  },
  "kernelspec": {
   "display_name": "Python 3.10.0 64-bit",
   "language": "python",
   "name": "python3"
  },
  "language_info": {
   "codemirror_mode": {
    "name": "ipython",
    "version": 3
   },
   "file_extension": ".py",
   "mimetype": "text/x-python",
   "name": "python",
   "nbconvert_exporter": "python",
   "pygments_lexer": "ipython3",
   "version": "3.10.0"
  },
  "orig_nbformat": 4
 },
 "nbformat": 4,
 "nbformat_minor": 2
}
