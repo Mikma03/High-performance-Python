{
 "cells": [
  {
   "cell_type": "code",
   "execution_count": 1,
   "metadata": {},
   "outputs": [
    {
     "name": "stdout",
     "output_type": "stream",
     "text": [
      "check_prime(10,000,000) = False\n",
      "check_prime(10,000,019) = True\n"
     ]
    }
   ],
   "source": [
    "import math\n",
    "\n",
    "def check_prime(number):\n",
    "    sqrt_number = math.sqrt(number)\n",
    "    for i in range(2, int(sqrt_number) + 1):\n",
    "        if (number / i).is_integer():\n",
    "            return False\n",
    "    return True\n",
    "\n",
    "print(f\"check_prime(10,000,000) = {check_prime(10_000_000)}\")\n",
    "print(f\"check_prime(10,000,019) = {check_prime(10_000_019)}\")\n"
   ]
  },
  {
   "cell_type": "code",
   "execution_count": 2,
   "metadata": {},
   "outputs": [],
   "source": [
    "import math\n",
    "\n",
    "def check_prime(number):\n",
    "    sqrt_number = math.sqrt(number)\n",
    "    numbers = range(2, int(sqrt_number)+1)\n",
    "    for i in range(0, len(numbers), 5):\n",
    "      # the following line is not valid Python code\n",
    "        result = (number / numbers[i:(i + 5)]).is_integer()\n",
    "        if any(result):\n",
    "            return False\n",
    "    return True"
   ]
  },
  {
   "cell_type": "code",
   "execution_count": 3,
   "metadata": {},
   "outputs": [],
   "source": [
    "def search_fast(haystack, needle):\n",
    "    for item in haystack:\n",
    "        if item == needle:\n",
    "            return True\n",
    "    return False\n",
    "\n",
    "def search_slow(haystack, needle):\n",
    "    return_value = False\n",
    "    for item in haystack:\n",
    "        if item == needle:\n",
    "            return_value = True\n",
    "    return return_value\n",
    "\n",
    "def search_unknown1(haystack, needle):\n",
    "    return any((item == needle for item in haystack))\n",
    "\n",
    "def search_unknown2(haystack, needle):\n",
    "    return any([item == needle for item in haystack])"
   ]
  },
  {
   "cell_type": "code",
   "execution_count": null,
   "metadata": {},
   "outputs": [],
   "source": []
  }
 ],
 "metadata": {
  "interpreter": {
   "hash": "7b0470897870f91c1d27568bf8346e85da46866cae942d918bd7f2b2e94e9a5a"
  },
  "kernelspec": {
   "display_name": "Python 3.10.0 64-bit",
   "language": "python",
   "name": "python3"
  },
  "language_info": {
   "codemirror_mode": {
    "name": "ipython",
    "version": 3
   },
   "file_extension": ".py",
   "mimetype": "text/x-python",
   "name": "python",
   "nbconvert_exporter": "python",
   "pygments_lexer": "ipython3",
   "version": "3.10.0"
  },
  "orig_nbformat": 4
 },
 "nbformat": 4,
 "nbformat_minor": 2
}
