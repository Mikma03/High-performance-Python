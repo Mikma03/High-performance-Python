{
 "cells": [
  {
   "cell_type": "code",
   "execution_count": 2,
   "metadata": {},
   "outputs": [
    {
     "name": "stdout",
     "output_type": "stream",
     "text": [
      "29 ns ± 2.64 ns per loop (mean ± std. dev. of 7 runs, 10000000 loops each)\n"
     ]
    }
   ],
   "source": [
    "%%timeit l = list(range(10))\n",
    "l[5]"
   ]
  },
  {
   "cell_type": "code",
   "execution_count": 3,
   "metadata": {},
   "outputs": [],
   "source": [
    "def linear_search(needle, array):\n",
    "    for i, item in enumerate(array):\n",
    "        if item == needle:\n",
    "            return i\n",
    "    return -1"
   ]
  },
  {
   "cell_type": "code",
   "execution_count": 4,
   "metadata": {},
   "outputs": [],
   "source": [
    "def binary_search(needle, haystack):\n",
    "    imin, imax = 0, len(haystack)\n",
    "    while True:\n",
    "        if imin > imax:\n",
    "            return -1\n",
    "        midpoint = (imin + imax) // 2\n",
    "        if haystack[midpoint] > needle:\n",
    "            imax = midpoint\n",
    "        elif haystack[midpoint] < needle:\n",
    "            imin = midpoint+1\n",
    "        else:\n",
    "            return midpoint"
   ]
  },
  {
   "cell_type": "code",
   "execution_count": 5,
   "metadata": {},
   "outputs": [
    {
     "name": "stdout",
     "output_type": "stream",
     "text": [
      "[50, 161, 186, 197, 328, 505, 591, 680, 712, 843]\n",
      "Closest value to -250: 50\n",
      "Closest value to 500: 505\n",
      "Closest value to 1100: 843\n"
     ]
    }
   ],
   "source": [
    "import bisect\n",
    "import random\n",
    "\n",
    "def find_closest(haystack, needle):\n",
    "    # bisect.bisect_left will return the first value in the haystack\n",
    "    # that is greater than the needle\n",
    "    i = bisect.bisect_left(haystack, needle)\n",
    "    if i == len(haystack):\n",
    "        return i - 1\n",
    "    elif haystack[i] == needle:\n",
    "        return i\n",
    "    elif i > 0:\n",
    "        j = i - 1\n",
    "        # since we know the value is larger than needle (and vice versa for the\n",
    "        # value at j), we don't need to use absolute values here\n",
    "        if haystack[i] - needle > needle - haystack[j]:\n",
    "            return j\n",
    "    return i\n",
    "\n",
    "important_numbers = []\n",
    "for i in range(10):\n",
    "    new_number = random.randint(0, 1000)\n",
    "    bisect.insort(important_numbers, new_number)\n",
    "\n",
    "# important_numbers will already be in order because we inserted new elements\n",
    "# with bisect.insort\n",
    "print(important_numbers)\n",
    "\n",
    "\n",
    "closest_index = find_closest(important_numbers, -250)\n",
    "print(f\"Closest value to -250: {important_numbers[closest_index]}\")\n",
    "\n",
    "closest_index = find_closest(important_numbers, 500)\n",
    "print(f\"Closest value to 500: {important_numbers[closest_index]}\")\n",
    "\n",
    "\n",
    "closest_index = find_closest(important_numbers, 1100)\n",
    "print(f\"Closest value to 1100: {important_numbers[closest_index]}\")\n"
   ]
  },
  {
   "cell_type": "code",
   "execution_count": 6,
   "metadata": {},
   "outputs": [
    {
     "name": "stdout",
     "output_type": "stream",
     "text": [
      "15.3 ns ± 0.557 ns per loop (mean ± std. dev. of 7 runs, 100000000 loops each)\n"
     ]
    }
   ],
   "source": [
    "%timeit t = (0, 1, 2, 3, 4, 5, 6, 7, 8, 9)"
   ]
  }
 ],
 "metadata": {
  "interpreter": {
   "hash": "7b0470897870f91c1d27568bf8346e85da46866cae942d918bd7f2b2e94e9a5a"
  },
  "kernelspec": {
   "display_name": "Python 3.10.0 64-bit",
   "language": "python",
   "name": "python3"
  },
  "language_info": {
   "codemirror_mode": {
    "name": "ipython",
    "version": 3
   },
   "file_extension": ".py",
   "mimetype": "text/x-python",
   "name": "python",
   "nbconvert_exporter": "python",
   "pygments_lexer": "ipython3",
   "version": "3.10.0"
  },
  "orig_nbformat": 4
 },
 "nbformat": 4,
 "nbformat_minor": 2
}
