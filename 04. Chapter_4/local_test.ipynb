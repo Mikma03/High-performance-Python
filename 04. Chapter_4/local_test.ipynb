{
 "cells": [
  {
   "cell_type": "code",
   "execution_count": 4,
   "metadata": {},
   "outputs": [],
   "source": [
    "import math\n",
    "from math import sin\n",
    "\n",
    "\n",
    "def test1(x):\n",
    "    \"\"\"\n",
    "    >>> %timeit test1(123_456)\n",
    "    162 µs ± 3.82 µs per loop (mean ± std. dev. of 7 runs, 10000 loops each)\n",
    "    \"\"\"\n",
    "    res = 1\n",
    "    for _ in range(1000):\n",
    "        res += math.sin(x)\n",
    "    return res\n",
    "\n",
    "\n",
    "def test2(x):\n",
    "    \"\"\"\n",
    "    >>> %timeit test2(123_456)\n",
    "    124 µs ± 6.77 µs per loop (mean ± std. dev. of 7 runs, 10000 loops each)\n",
    "    \"\"\"\n",
    "    res = 1\n",
    "    for _ in range(1000):\n",
    "        res += sin(x)\n",
    "    return res\n",
    "\n",
    "\n",
    "def test3(x, sin=math.sin):\n",
    "    \"\"\"\n",
    "    >>> %timeit test3(123_456)\n",
    "    105 µs ± 3.35 µs per loop (mean ± std. dev. of 7 runs, 10000 loops each)\n",
    "    \"\"\"\n",
    "    res = 1\n",
    "    for _ in range(1000):\n",
    "        res += sin(x)\n",
    "    return res\n"
   ]
  },
  {
   "cell_type": "code",
   "execution_count": 6,
   "metadata": {},
   "outputs": [
    {
     "name": "stdout",
     "output_type": "stream",
     "text": [
      " 10           0 LOAD_CONST               1 (1)\n",
      "              2 STORE_FAST               1 (res)\n",
      "\n",
      " 11           4 LOAD_GLOBAL              0 (range)\n",
      "              6 LOAD_CONST               2 (1000)\n",
      "              8 CALL_FUNCTION            1\n",
      "             10 GET_ITER\n",
      "        >>   12 FOR_ITER                 9 (to 32)\n",
      "             14 STORE_FAST               2 (_)\n",
      "\n",
      " 12          16 LOAD_FAST                1 (res)\n",
      "             18 LOAD_GLOBAL              1 (math)\n",
      "             20 LOAD_METHOD              2 (sin)\n",
      "             22 LOAD_FAST                0 (x)\n",
      "             24 CALL_METHOD              1\n",
      "             26 INPLACE_ADD\n",
      "             28 STORE_FAST               1 (res)\n",
      "             30 JUMP_ABSOLUTE            6 (to 12)\n",
      "\n",
      " 13     >>   32 LOAD_FAST                1 (res)\n",
      "             34 RETURN_VALUE\n"
     ]
    }
   ],
   "source": [
    "import dis\n",
    "dis.dis(test1)"
   ]
  },
  {
   "cell_type": "code",
   "execution_count": null,
   "metadata": {},
   "outputs": [],
   "source": []
  }
 ],
 "metadata": {
  "interpreter": {
   "hash": "7b0470897870f91c1d27568bf8346e85da46866cae942d918bd7f2b2e94e9a5a"
  },
  "kernelspec": {
   "display_name": "Python 3.10.0 64-bit",
   "language": "python",
   "name": "python3"
  },
  "language_info": {
   "codemirror_mode": {
    "name": "ipython",
    "version": 3
   },
   "file_extension": ".py",
   "mimetype": "text/x-python",
   "name": "python",
   "nbconvert_exporter": "python",
   "pygments_lexer": "ipython3",
   "version": "3.10.0"
  },
  "orig_nbformat": 4
 },
 "nbformat": 4,
 "nbformat_minor": 2
}
